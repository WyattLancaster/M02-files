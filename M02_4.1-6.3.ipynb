{
 "cells": [
  {
   "cell_type": "code",
   "execution_count": 1,
   "id": "30ed0eaf",
   "metadata": {},
   "outputs": [
    {
     "name": "stdout",
     "output_type": "stream",
     "text": [
      "just right\n"
     ]
    }
   ],
   "source": [
    "# m02 Assignment - Loops And Conditionals-4.1\n",
    "# author: WJL\n",
    "# created: 2022-01-29\n",
    "# sample program that assigns a value to two variables and and uses if/else statements to choose an output depending on what-\n",
    "# -the two numbers are.\n",
    "\n",
    "# Assign the variables\n",
    "secret = 3\n",
    "guess = 3\n",
    "\n",
    "# If the guess is lower than the secret number this if statement returns as true and prints 'too low' and the program ends\n",
    "# If it returns as false then it moves on to the elif statement below\n",
    "if guess < secret:\n",
    "    print('too low')\n",
    "\n",
    "# If the guess is greater than the secret number this elif statement returns as true and prints 'too high' and the program ends\n",
    "# If it returns as false then it moves on to the elif statement below\n",
    "elif guess > secret:\n",
    "    print('too high')\n",
    "\n",
    "# If the guess is equal to the secret number this elif statement returns as true and prints 'just right' and the program ends\n",
    "elif guess == secret:\n",
    "    print('just right')\n"
   ]
  },
  {
   "cell_type": "code",
   "execution_count": 4,
   "id": "7fb0c29f",
   "metadata": {},
   "outputs": [
    {
     "name": "stdout",
     "output_type": "stream",
     "text": [
      "it's a cherry\n"
     ]
    }
   ],
   "source": [
    "# m02 Assignment - Loops And Conditionals-4.2\n",
    "# author: WJL\n",
    "# created: 2022-01-29\n",
    "# program that assigns true/false to the two variables and then runs if/else statements to decide whether it is 1 of 4 items.\n",
    "\n",
    "# Assign the variables\n",
    "small = True\n",
    "green = False\n",
    "\n",
    "# Run the if/else statements to figure out what item it is and outputs the item\n",
    "if small:\n",
    "    if green:\n",
    "        print('it\\'s a pea')\n",
    "    else:\n",
    "        print('it\\'s a cherry')\n",
    "\n",
    "else:\n",
    "    if green:\n",
    "        print('it\\'s a watermelon')\n",
    "    else:\n",
    "        print('it\\'s a  pumpkin')"
   ]
  },
  {
   "cell_type": "code",
   "execution_count": 6,
   "id": "54f07b64",
   "metadata": {},
   "outputs": [
    {
     "name": "stdout",
     "output_type": "stream",
     "text": [
      "3\n",
      "2\n",
      "1\n",
      "0\n"
     ]
    }
   ],
   "source": [
    "# m02 Assignment - Loops And Conditionals-6.1\n",
    "# author: WJL\n",
    "# created: 2022-01-29\n",
    "# program that uses a for loop to print the values in the list.\n",
    "\n",
    "# Assign the values of the list\n",
    "List = [3, 2, 1, 0]\n",
    "\n",
    "# Use a for loop to print all the items in the list\n",
    "for x in List:\n",
    "    print(x)"
   ]
  },
  {
   "cell_type": "code",
   "execution_count": 8,
   "id": "1436950a",
   "metadata": {},
   "outputs": [
    {
     "name": "stdout",
     "output_type": "stream",
     "text": [
      "too low\n",
      "too low\n",
      "too low\n",
      "too low\n",
      "too low\n",
      "too low\n",
      "found it!\n"
     ]
    }
   ],
   "source": [
    "# m02 Assignment - Loops And Conditionals-6.2\n",
    "# author: WJL\n",
    "# created: 2022-01-29\n",
    "# program that assigns two variables and then runs a while loop until the number is == to the guess_me number.\n",
    "\n",
    "# Assign the variables\n",
    "guess_me = 7\n",
    "number = 1\n",
    "\n",
    "# The while loop will run through all of the if/elif statements within it until the condition that is defined is == true\n",
    "while number < guess_me or number > guess_me or number == guess_me:\n",
    "    if number < guess_me:\n",
    "        print('too low')\n",
    "    if number == guess_me:\n",
    "        print('found it!')\n",
    "        break\n",
    "    elif number > guess_me:\n",
    "        print('oops')\n",
    "        break\n",
    "    # This is what makes it so that the loop always adds 1 to the value of 'number' so that it can actually reach the intended-\n",
    "    #-value and end\n",
    "    number += 1"
   ]
  },
  {
   "cell_type": "code",
   "execution_count": 11,
   "id": "037b3e50",
   "metadata": {},
   "outputs": [
    {
     "name": "stdout",
     "output_type": "stream",
     "text": [
      "too low\n",
      "too low\n",
      "too low\n",
      "too low\n",
      "too low\n",
      "found it!\n"
     ]
    }
   ],
   "source": [
    "# m02 Assignment - Loops And Conditionals-6.3\n",
    "# author: WJL\n",
    "# created: 2022-01-29\n",
    "# program that assigns a variable 'guess_me' and then runs a for loop until it finds the value of 'guess_me' but breaks after-\n",
    "#-10 loops\n",
    "\n",
    "# Assign the variable\n",
    "guess_me = 5\n",
    "\n",
    "# Run the for loop with the restraint of a range of 10, the loop will go through each loop and check if it has found the value-\n",
    "#- of \n",
    "for number in range(10):\n",
    "    if number < guess_me:\n",
    "        print('too low')\n",
    "    elif number == guess_me:\n",
    "        print('found it!')\n",
    "        break\n",
    "    elif number > guess_me:\n",
    "        print('oops')\n",
    "        break"
   ]
  }
 ],
 "metadata": {
  "kernelspec": {
   "display_name": "Python 3 (ipykernel)",
   "language": "python",
   "name": "python3"
  },
  "language_info": {
   "codemirror_mode": {
    "name": "ipython",
    "version": 3
   },
   "file_extension": ".py",
   "mimetype": "text/x-python",
   "name": "python",
   "nbconvert_exporter": "python",
   "pygments_lexer": "ipython3",
   "version": "3.9.13"
  }
 },
 "nbformat": 4,
 "nbformat_minor": 5
}
