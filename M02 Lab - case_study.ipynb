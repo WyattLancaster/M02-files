{
 "cells": [
  {
   "cell_type": "code",
   "execution_count": 1,
   "id": "1f05d494",
   "metadata": {},
   "outputs": [
    {
     "name": "stdout",
     "output_type": "stream",
     "text": [
      "Input student's last name or 'ZZZ' to cancel: Duke\n",
      "Input student's first name: Bobby\n",
      "Input student's GPA: 3.5\n",
      "Bobby Duke has a GPA of  3.5  and has made the Deans List\n",
      "Bobby Duke has a GPA of  3.5  and has made the Honor Roll\n",
      "Input student's last name or 'ZZZ' to cancel: Andrews\n",
      "Input student's first name: Joey\n",
      "Input student's GPA: 3.25\n",
      "Joey Andrews has a GPA of  3.25  and has made the Honor Roll\n",
      "Input student's last name or 'ZZZ' to cancel: Abrams\n",
      "Input student's first name: John\n",
      "Input student's GPA: 3.2\n",
      "John Abrams has a GPA of  3.2 and did not make the Deans List or Honor Roll\n",
      "Input student's last name or 'ZZZ' to cancel: ZZZ\n"
     ]
    }
   ],
   "source": [
    "# m02 Lab Case Study - if, else, and, while\n",
    "# author: WJL\n",
    "# created: 2022-01-25 updated 2022-01-29 WJL\n",
    "# Program to check if the student entered in is on either the Dean'sList/HonorRoll/Both/Neither by entering their GPA\n",
    "\n",
    "# Assigning the variable 'student_last_name' through user input\n",
    "student_last_name = input(\"Input student's last name or 'ZZZ' to cancel: \")\n",
    "\n",
    "# Checking to see if 'student_last_name' = 'ZZZ' and if it does ending the program\n",
    "if student_last_name == \"ZZZ\":\n",
    "    exit()\n",
    "\n",
    "# This while loop has all other input and output in it and will run until student_last_name = 'ZZZ'\n",
    "while student_last_name != \"ZZZ\":\n",
    "    # Assigning the variables 'student_first_name' and 'student_gpa'\n",
    "    student_first_name = input(\"Input student's first name: \")\n",
    "    student_gpa = float(input(\"Input student's GPA: \"))\n",
    "\n",
    "    # Testing stundent's GPA against 3.5 to determine if they made the Dean's list\n",
    "    if student_gpa >= 3.5:\n",
    "        print(student_first_name, student_last_name, 'has a GPA of ', student_gpa, ' and has made the Deans List')\n",
    "  \n",
    "    # Testing stundent's GPA against 3.25 to determine if they made the Honor Roll\n",
    "    if student_gpa >= 3.25:\n",
    "        print(student_first_name, student_last_name, 'has a GPA of ', student_gpa, ' and has made the Honor Roll')\n",
    "    \n",
    "    # Output that runs if neither of the others are met\n",
    "    elif student_gpa < 3.25:\n",
    "        print(student_first_name, student_last_name, 'has a GPA of ', student_gpa, 'and did not make the Deans List or Honor Roll')\n",
    "    \n",
    "    # Asking for next student's last name or to type 'ZZZ'\n",
    "    student_last_name = input(\"Input student's last name or 'ZZZ' to cancel: \")\n",
    "    if student_last_name == \"ZZZ\":\n",
    "        exit()\n",
    "\n",
    "    \n"
   ]
  }
 ],
 "metadata": {
  "kernelspec": {
   "display_name": "Python 3 (ipykernel)",
   "language": "python",
   "name": "python3"
  },
  "language_info": {
   "codemirror_mode": {
    "name": "ipython",
    "version": 3
   },
   "file_extension": ".py",
   "mimetype": "text/x-python",
   "name": "python",
   "nbconvert_exporter": "python",
   "pygments_lexer": "ipython3",
   "version": "3.9.13"
  }
 },
 "nbformat": 4,
 "nbformat_minor": 5
}
