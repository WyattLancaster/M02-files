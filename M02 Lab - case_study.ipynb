{
 "cells": [
  {
   "cell_type": "code",
   "execution_count": 1,
   "id": "1f05d494",
   "metadata": {},
   "outputs": [
    {
     "name": "stdout",
     "output_type": "stream",
     "text": [
      "Input student's last name or 'ZZZ' to cancel: ed\n",
      "Input student's first name: edd\n",
      "Input student's GPA: 2\n",
      "edd ed has a GPA of  2.0 and did not make the Deans List or Honor Roll\n",
      "Input student's last name or 'ZZZ' to cancel: ad\n",
      "Input student's first name: add\n",
      "Input student's GPA: 3.25\n",
      "add ad has a GPA of  3.25  and has made the Honor Roll\n",
      "Input student's last name or 'ZZZ' to cancel: we\n",
      "Input student's first name: wee\n",
      "Input student's GPA: 3.5\n",
      "wee we has a GPA of  3.5  and has made the Deans List\n",
      "wee we has a GPA of  3.5  and has made the Honor Roll\n",
      "Input student's last name or 'ZZZ' to cancel: ZZZ\n"
     ]
    }
   ],
   "source": [
    "# m02 Lab Case Study - if, else, and, while\n",
    "# author: WJL\n",
    "# created: 2022-01-25\n",
    "# Program to check if the student entered in is on either the Dean'sList/HonorRoll/Both/Neither by entering their GPA\n",
    "\n",
    "# Assigning the variable 'studentLastName' through user input\n",
    "studentLastName = input(\"Input student's last name or 'ZZZ' to cancel: \")\n",
    "\n",
    "# Checking to see if 'studentLastName' = 'ZZZ' and if it does ending the program\n",
    "if studentLastName == \"ZZZ\":\n",
    "    exit()\n",
    "\n",
    "# This while loop has all other input and output in it and will run until studentLastName = 'ZZZ'\n",
    "while studentLastName != \"ZZZ\":\n",
    "    # Assigning the variables 'studentFirstName' and 'studentGPA'\n",
    "    studentFirstName = input(\"Input student's first name: \")\n",
    "    studentGPA = float(input(\"Input student's GPA: \"))\n",
    "\n",
    "    # Testing stundent's GPA against 3.5 to determine if they made the Dean's list\n",
    "    if studentGPA >= 3.5:\n",
    "        print(studentFirstName, studentLastName, 'has a GPA of ', studentGPA, ' and has made the Deans List')\n",
    "  \n",
    "    # Testing stundent's GPA against 3.25 to determine if they made the Honor Roll\n",
    "    if studentGPA >= 3.25:\n",
    "        print(studentFirstName, studentLastName, 'has a GPA of ', studentGPA, ' and has made the Honor Roll')\n",
    "    \n",
    "    # Output that runs if neither of the others are met\n",
    "    elif studentGPA < 3.25:\n",
    "        print(studentFirstName, studentLastName, 'has a GPA of ', studentGPA, 'and did not make the Deans List or Honor Roll')\n",
    "    \n",
    "    # Asking for next student's last name or to type 'ZZZ'\n",
    "    studentLastName = input(\"Input student's last name or 'ZZZ' to cancel: \")\n",
    "    if studentLastName == \"ZZZ\":\n",
    "        exit()\n",
    "\n",
    "    \n"
   ]
  }
 ],
 "metadata": {
  "kernelspec": {
   "display_name": "Python 3 (ipykernel)",
   "language": "python",
   "name": "python3"
  },
  "language_info": {
   "codemirror_mode": {
    "name": "ipython",
    "version": 3
   },
   "file_extension": ".py",
   "mimetype": "text/x-python",
   "name": "python",
   "nbconvert_exporter": "python",
   "pygments_lexer": "ipython3",
   "version": "3.9.13"
  }
 },
 "nbformat": 4,
 "nbformat_minor": 5
}
